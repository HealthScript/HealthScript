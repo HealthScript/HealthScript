{
 "cells": [
  {
   "cell_type": "markdown",
   "metadata": {},
   "source": [
    "## 准备数据"
   ]
  },
  {
   "cell_type": "code",
   "execution_count": 3,
   "metadata": {},
   "outputs": [],
   "source": [
    "import os\n",
    "import numpy as np\n",
    "import tensorflow as tf\n",
    "from tensorflow import keras\n",
    "from tensorflow.keras import layers, optimizers, datasets\n",
    "\n",
    "os.environ['TF_CPP_MIN_LOG_LEVEL'] = '2'  # or any {'0', '1', '2'}\n",
    "\n",
    "def mnist_dataset():\n",
    "    (x, y), (x_test, y_test) = datasets.mnist.load_data()\n",
    "    #normalize\n",
    "    x = x/255.0\n",
    "    x_test = x_test/255.0\n",
    "    \n",
    "    return (x, y), (x_test, y_test)"
   ]
  },
  {
   "cell_type": "code",
   "execution_count": 5,
   "metadata": {},
   "outputs": [
    {
     "name": "stdout",
     "output_type": "stream",
     "text": [
      "[(1, 'a'), (2, 'b'), (3, 'c'), (4, 'd')]\n"
     ]
    }
   ],
   "source": [
    "print(list(zip([1, 2, 3, 4], ['a', 'b', 'c', 'd'])))"
   ]
  },
  {
   "cell_type": "markdown",
   "metadata": {},
   "source": [
    "## 建立模型"
   ]
  },
  {
   "cell_type": "code",
   "execution_count": 9,
   "metadata": {},
   "outputs": [],
   "source": [
    "class myModel:\n",
    "    def __init__(self):\n",
    "        ####################\n",
    "        '''声明模型对应的参数'''\n",
    "        self.W1 = tf.Variable(tf.random.normal(shape=(28 * 28, 128), stddev=0.01), trainable=True)\n",
    "        self.b1 = tf.Variable(tf.zeros(shape=(128,)), trainable=True)\n",
    "        self.W2 = tf.Variable(tf.random.normal(shape=(128, 10), stddev=0.01), trainable=True)\n",
    "        self.b2 = tf.Variable(tf.zeros(shape=(10,)), trainable=True)\n",
    "        ####################\n",
    "    def __call__(self, x):\n",
    "        ####################\n",
    "        '''实现模型函数体，返回未归一化的logits'''\n",
    "        x_flattened = tf.reshape(x, [-1, 784])\n",
    "        h1 = tf.matmul(x_flattened, self.W1) + self.b1\n",
    "        activated_h1 = tf.tanh(h1)\n",
    "        logits = tf.matmul(activated_h1, self.W2) + self.b2\n",
    "        ####################\n",
    "        return logits\n",
    "        \n",
    "model = myModel()\n",
    "\n",
    "optimizer = optimizers.Adam()"
   ]
  },
  {
   "cell_type": "markdown",
   "metadata": {},
   "source": [
    "## 计算 loss"
   ]
  },
  {
   "cell_type": "code",
   "execution_count": 11,
   "metadata": {},
   "outputs": [],
   "source": [
    "@tf.function\n",
    "def compute_loss(logits, labels):\n",
    "    return tf.reduce_mean(\n",
    "        tf.nn.sparse_softmax_cross_entropy_with_logits(\n",
    "            logits=logits, labels=labels))\n",
    "\n",
    "@tf.function\n",
    "def compute_accuracy(logits, labels):\n",
    "    predictions = tf.argmax(logits, axis=1)\n",
    "    return tf.reduce_mean(tf.cast(tf.equal(predictions, labels), tf.float32))\n",
    "\n",
    "@tf.function\n",
    "def train_one_step(model, optimizer, x, y):\n",
    "    with tf.GradientTape() as tape:\n",
    "        logits = model(x)\n",
    "        loss = compute_loss(logits, y)\n",
    "\n",
    "    # compute gradient\n",
    "    trainable_vars = [model.W1, model.W2, model.b1, model.b2]\n",
    "    grads = tape.gradient(loss, trainable_vars)\n",
    "    for g, v in zip(grads, trainable_vars):\n",
    "        v.assign_sub(0.01*g)\n",
    "\n",
    "    accuracy = compute_accuracy(logits, y)\n",
    "\n",
    "    # loss and accuracy is scalar tensor\n",
    "    return loss, accuracy\n",
    "\n",
    "@tf.function\n",
    "def test(model, x, y):\n",
    "    logits = model(x)\n",
    "    loss = compute_loss(logits, y)\n",
    "    accuracy = compute_accuracy(logits, y)\n",
    "    return loss, accuracy"
   ]
  },
  {
   "cell_type": "markdown",
   "metadata": {},
   "source": [
    "## 实际训练"
   ]
  },
  {
   "cell_type": "code",
   "execution_count": 13,
   "metadata": {},
   "outputs": [
    {
     "name": "stdout",
     "output_type": "stream",
     "text": [
      "epoch 0 : loss 2.3016756 ; accuracy 0.14213334\n",
      "epoch 1 : loss 2.3014057 ; accuracy 0.14915\n",
      "epoch 2 : loss 2.301136 ; accuracy 0.15553333\n",
      "epoch 3 : loss 2.3008657 ; accuracy 0.16343333\n",
      "epoch 4 : loss 2.3005953 ; accuracy 0.17116667\n",
      "epoch 5 : loss 2.3003247 ; accuracy 0.17893334\n",
      "epoch 6 : loss 2.300054 ; accuracy 0.18646666\n",
      "epoch 7 : loss 2.299783 ; accuracy 0.19441667\n",
      "epoch 8 : loss 2.299512 ; accuracy 0.20188333\n",
      "epoch 9 : loss 2.2992406 ; accuracy 0.20866667\n",
      "epoch 10 : loss 2.2989688 ; accuracy 0.21653333\n",
      "epoch 11 : loss 2.2986968 ; accuracy 0.22311667\n",
      "epoch 12 : loss 2.2984245 ; accuracy 0.22986667\n",
      "epoch 13 : loss 2.2981517 ; accuracy 0.23633334\n",
      "epoch 14 : loss 2.2978787 ; accuracy 0.24326667\n",
      "epoch 15 : loss 2.2976053 ; accuracy 0.24966666\n",
      "epoch 16 : loss 2.2973313 ; accuracy 0.25556666\n",
      "epoch 17 : loss 2.297057 ; accuracy 0.26101667\n",
      "epoch 18 : loss 2.2967823 ; accuracy 0.266\n",
      "epoch 19 : loss 2.296507 ; accuracy 0.27171665\n",
      "epoch 20 : loss 2.2962313 ; accuracy 0.27691665\n",
      "epoch 21 : loss 2.2959552 ; accuracy 0.28205\n",
      "epoch 22 : loss 2.2956781 ; accuracy 0.28715\n",
      "epoch 23 : loss 2.295401 ; accuracy 0.29156667\n",
      "epoch 24 : loss 2.2951229 ; accuracy 0.29618335\n",
      "epoch 25 : loss 2.2948446 ; accuracy 0.30063334\n",
      "epoch 26 : loss 2.2945654 ; accuracy 0.30496666\n",
      "epoch 27 : loss 2.2942855 ; accuracy 0.30948332\n",
      "epoch 28 : loss 2.2940052 ; accuracy 0.31418332\n",
      "epoch 29 : loss 2.293724 ; accuracy 0.31775\n",
      "epoch 30 : loss 2.2934425 ; accuracy 0.32208332\n",
      "epoch 31 : loss 2.29316 ; accuracy 0.32666665\n",
      "epoch 32 : loss 2.2928765 ; accuracy 0.33035\n",
      "epoch 33 : loss 2.2925925 ; accuracy 0.3341\n",
      "epoch 34 : loss 2.2923076 ; accuracy 0.33795\n",
      "epoch 35 : loss 2.2920222 ; accuracy 0.34195\n",
      "epoch 36 : loss 2.2917356 ; accuracy 0.34581667\n",
      "epoch 37 : loss 2.2914484 ; accuracy 0.34966666\n",
      "epoch 38 : loss 2.29116 ; accuracy 0.35391667\n",
      "epoch 39 : loss 2.2908711 ; accuracy 0.35791665\n",
      "epoch 40 : loss 2.290581 ; accuracy 0.36203334\n",
      "epoch 41 : loss 2.29029 ; accuracy 0.36648333\n",
      "epoch 42 : loss 2.2899983 ; accuracy 0.37021667\n",
      "epoch 43 : loss 2.2897055 ; accuracy 0.37376666\n",
      "epoch 44 : loss 2.2894115 ; accuracy 0.3772\n",
      "epoch 45 : loss 2.2891166 ; accuracy 0.38071668\n",
      "epoch 46 : loss 2.2888207 ; accuracy 0.38393334\n",
      "epoch 47 : loss 2.2885237 ; accuracy 0.3872\n",
      "epoch 48 : loss 2.2882254 ; accuracy 0.39028335\n",
      "epoch 49 : loss 2.2879262 ; accuracy 0.39293334\n",
      "test loss 2.2874238 ; accuracy 0.405\n"
     ]
    }
   ],
   "source": [
    "train_data, test_data = mnist_dataset()\n",
    "for epoch in range(50):\n",
    "    loss, accuracy = train_one_step(model, optimizer, \n",
    "                                    tf.constant(train_data[0], dtype=tf.float32), \n",
    "                                    tf.constant(train_data[1], dtype=tf.int64))\n",
    "    print('epoch', epoch, ': loss', loss.numpy(), '; accuracy', accuracy.numpy())\n",
    "loss, accuracy = test(model, \n",
    "                      tf.constant(test_data[0], dtype=tf.float32), \n",
    "                      tf.constant(test_data[1], dtype=tf.int64))\n",
    "\n",
    "print('test loss', loss.numpy(), '; accuracy', accuracy.numpy())"
   ]
  },
  {
   "cell_type": "code",
   "execution_count": null,
   "metadata": {},
   "outputs": [],
   "source": []
  }
 ],
 "metadata": {
  "kernelspec": {
   "display_name": "Python 3 (ipykernel)",
   "language": "python",
   "name": "python3"
  },
  "language_info": {
   "codemirror_mode": {
    "name": "ipython",
    "version": 3
   },
   "file_extension": ".py",
   "mimetype": "text/x-python",
   "name": "python",
   "nbconvert_exporter": "python",
   "pygments_lexer": "ipython3",
   "version": "3.12.7"
  }
 },
 "nbformat": 4,
 "nbformat_minor": 4
}
